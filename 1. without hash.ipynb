{
 "cells": [
  {
   "cell_type": "code",
   "execution_count": 2,
   "metadata": {},
   "outputs": [],
   "source": [
    "import numpy as np\n",
    "import pickle\n",
    "import pandas as pd\n",
    "from sklearn.model_selection import train_test_split\n",
    "from sklearn.preprocessing import LabelEncoder\n",
    "\n",
    "from sklearn.tree import DecisionTreeClassifier\n",
    "from sklearn.preprocessing import MultiLabelBinarizer\n",
    "from sklearn.metrics import precision_score, recall_score, f1_score, hamming_loss, precision_recall_fscore_support\n",
    "from sklearn.ensemble import VotingClassifier"
   ]
  },
  {
   "cell_type": "code",
   "execution_count": 3,
   "metadata": {},
   "outputs": [],
   "source": [
    "# Load the stored partitions\n",
    "with open('./data/X_train_sample.pickle', 'rb') as f:\n",
    "    X_train = pickle.load(f)\n",
    "\n",
    "with open('./data/X_test_sample.pickle', 'rb') as f:\n",
    "    X_test = pickle.load(f)\n",
    "\n",
    "with open('./data/y_train_sample.pickle', 'rb') as f:\n",
    "    y_train = pickle.load(f)\n",
    "\n",
    "with open('./data/y_test_sample.pickle', 'rb') as f:\n",
    "    y_test = pickle.load(f)\n",
    "\n",
    "X = np.concatenate((X_train, X_test), axis=0)\n",
    "y = np.concatenate((y_train, y_test), axis=0)"
   ]
  },
  {
   "cell_type": "code",
   "execution_count": 4,
   "metadata": {},
   "outputs": [
    {
     "name": "stdout",
     "output_type": "stream",
     "text": [
      "Accuracy of DT: 0.9841646872525732\n",
      "Precision of DT: 0.9843185764647819\n",
      "Recall of DT: 0.9841646872525732\n",
      "F1-score of DT: 0.9838635546769349\n"
     ]
    }
   ],
   "source": [
    "# No Partitions\n",
    "dt = DecisionTreeClassifier(random_state = 0)\n",
    "dt.fit(X_train,y_train) \n",
    "dt_score=dt.score(X_test,y_test)\n",
    "y_predict=dt.predict(X_test)\n",
    "y_true=y_test\n",
    "print('Accuracy of DT: '+ str(dt_score))\n",
    "precision,recall,fscore,none= precision_recall_fscore_support(y_true, y_predict, average='weighted') \n",
    "print('Precision of DT: '+(str(precision)))\n",
    "print('Recall of DT: '+(str(recall)))\n",
    "print('F1-score of DT: '+(str(fscore)))"
   ]
  },
  {
   "cell_type": "code",
   "execution_count": 5,
   "metadata": {},
   "outputs": [
    {
     "name": "stdout",
     "output_type": "stream",
     "text": [
      "Accuracy of Ensemble: 0.9890815671162492\n",
      "Precision of Ensemble: 0.9887818547656925\n",
      "Recall of Ensemble: 0.9890815671162492\n",
      "F1-score of Ensemble: 0.9886774566843135\n"
     ]
    }
   ],
   "source": [
    "# Simple paritioning and evaluation\n",
    "def partition_data(X, y, num_partitions=5):\n",
    "    # Split the data into 5 partitions\n",
    "    X_partitions = []\n",
    "    y_partitions = []\n",
    "\n",
    "    for i in range(num_partitions):\n",
    "        X_train_partition, X_test_partition, y_train_partition, y_test_partition = train_test_split(X, y, test_size=0.2, random_state=i)\n",
    "        X_partitions.append((X_train_partition, X_test_partition))\n",
    "        y_partitions.append((y_train_partition, y_test_partition))\n",
    "    \n",
    "    return X_partitions, y_partitions\n",
    "\n",
    "def evaluate_ensemble(X_train, y_train, X_test, y_test):\n",
    "    ensemble = VotingClassifier(estimators=[('dt{}'.format(i), DecisionTreeClassifier(random_state=0)) for i in range(5)], voting='hard')\n",
    "    \n",
    "    ensemble.fit(X_train, y_train)\n",
    "    ensemble_score = ensemble.score(X_test, y_test)\n",
    "    y_predict = ensemble.predict(X_test)\n",
    "    y_true = y_test\n",
    "    \n",
    "    print('Accuracy of Ensemble: ' + str(ensemble_score))\n",
    "    precision, recall, fscore, none = precision_recall_fscore_support(y_true, y_predict, average='weighted')\n",
    "    print('Precision of Ensemble: ' + str(precision))\n",
    "    print('Recall of Ensemble: ' + str(recall))\n",
    "    print('F1-score of Ensemble: ' + str(fscore))\n",
    "\n",
    "# Example usage\n",
    "X_partitions, y_partitions = partition_data(X, y)\n",
    "X_train, X_test = X_partitions[0]\n",
    "y_train, y_test = y_partitions[0]\n",
    "evaluate_ensemble(X_train, y_train, X_test, y_test)"
   ]
  },
  {
   "cell_type": "code",
   "execution_count": 6,
   "metadata": {},
   "outputs": [
    {
     "name": "stdout",
     "output_type": "stream",
     "text": [
      "Accuracy of Ensemble: 0.9190751445086706\n",
      "Precision of Ensemble: 0.9252356384176502\n",
      "Recall of Ensemble: 0.9190751445086706\n",
      "F1-score of Ensemble: 0.9206503672764206\n"
     ]
    }
   ],
   "source": [
    "def partition_data_with_poision(X, y, poison_fraction=0.1, random_state=0, num_partitions=5):\n",
    "    # Split the data into 5 partitions\n",
    "    X_partitions = []\n",
    "    y_partitions = []\n",
    "\n",
    "    for i in range(num_partitions):\n",
    "        X_train_partition, X_test_partition, y_train_partition, y_test_partition = train_test_split(X, y, test_size=0.2, random_state=i)\n",
    "        X_partitions.append((X_train_partition, X_test_partition))\n",
    "        y_partitions.append((y_train_partition, y_test_partition))\n",
    "    \n",
    "    # Introduce poison into the data\n",
    "    for i in range(num_partitions):\n",
    "        X_train_partition, _ = X_partitions[i]\n",
    "        y_train_partition, _ = y_partitions[i]\n",
    "        \n",
    "        n_poison_samples = int(len(X_train_partition) * poison_fraction)\n",
    "        np.random.seed(random_state)\n",
    "        poison_indices = np.random.choice(len(X_train_partition), n_poison_samples, replace=False)\n",
    "        \n",
    "        # Change the labels of the poison samples\n",
    "        y_train_partition[poison_indices] = np.random.randint(0, np.max(y) + 1, size=n_poison_samples)\n",
    "        \n",
    "        # Update the partition data\n",
    "        X_partitions[i] = (X_train_partition, X_test_partition)\n",
    "        y_partitions[i] = (y_train_partition, y_test_partition)\n",
    "    \n",
    "    return X_partitions, y_partitions\n",
    "\n",
    "def introduce_poison_and_evaluate(X_train, y_train, X_test, y_test):\n",
    "    ensemble = VotingClassifier(estimators=[('dt{}'.format(i), DecisionTreeClassifier(random_state=0)) for i in range(5)], voting='hard')\n",
    "    \n",
    "    ensemble.fit(X_train, y_train)\n",
    "    ensemble_score = ensemble.score(X_test, y_test)\n",
    "    y_predict = ensemble.predict(X_test)\n",
    "    y_true = y_test\n",
    "    \n",
    "    print('Accuracy of Ensemble: ' + str(ensemble_score))\n",
    "    precision, recall, fscore, none = precision_recall_fscore_support(y_true, y_predict, average='weighted')\n",
    "    print('Precision of Ensemble: ' + str(precision))\n",
    "    print('Recall of Ensemble: ' + str(recall))\n",
    "    print('F1-score of Ensemble: ' + str(fscore))\n",
    "\n",
    "# Example usage\n",
    "X_partitions, y_partitions = partition_data_with_poision(X, y, poison_fraction=0.1, random_state=0)\n",
    "X_train, X_test = X_partitions[0]\n",
    "y_train, y_test = y_partitions[0]\n",
    "introduce_poison_and_evaluate(X_train, y_train, X_test, y_test)"
   ]
  }
 ],
 "metadata": {
  "kernelspec": {
   "display_name": "venv",
   "language": "python",
   "name": "python3"
  },
  "language_info": {
   "codemirror_mode": {
    "name": "ipython",
    "version": 3
   },
   "file_extension": ".py",
   "mimetype": "text/x-python",
   "name": "python",
   "nbconvert_exporter": "python",
   "pygments_lexer": "ipython3",
   "version": "3.9.6"
  },
  "orig_nbformat": 4
 },
 "nbformat": 4,
 "nbformat_minor": 2
}
